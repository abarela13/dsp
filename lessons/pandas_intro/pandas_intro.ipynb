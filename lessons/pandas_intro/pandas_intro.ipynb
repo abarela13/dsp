{
 "metadata": {
  "language_info": {
   "codemirror_mode": {
    "name": "ipython",
    "version": 3
   },
   "file_extension": ".py",
   "mimetype": "text/x-python",
   "name": "python",
   "nbconvert_exporter": "python",
   "pygments_lexer": "ipython3",
   "version": "3.8.5-final"
  },
  "orig_nbformat": 2,
  "kernelspec": {
   "name": "Python 3.8.5 64-bit",
   "display_name": "Python 3.8.5 64-bit",
   "metadata": {
    "interpreter": {
     "hash": "2db524e06e9f5f4ffedc911c917cb75e12dbc923643829bf417064a77eb14d37"
    }
   }
  }
 },
 "nbformat": 4,
 "nbformat_minor": 2,
 "cells": [
  {
   "source": [
    "# [10 minutes to pandas](https://pandas.pydata.org/pandas-docs/stable/user_guide/10min.html)"
   ],
   "cell_type": "markdown",
   "metadata": {}
  },
  {
   "cell_type": "code",
   "execution_count": 1,
   "metadata": {},
   "outputs": [],
   "source": [
    "import numpy as np\n",
    "import pandas as pd"
   ]
  },
  {
   "source": [
    "# Object creation\n",
    "[See the Data Structure Intro section](https://pandas.pydata.org/pandas-docs/stable/user_guide/dsintro.html#dsintro)\n",
    "\n",
    "Creating a Series by passing a list of values, letting pandas create a default integer index:\n"
   ],
   "cell_type": "markdown",
   "metadata": {}
  },
  {
   "source": [
    "s = pd.Series([1, 3, 5, np.nan, 6, 8])\n",
    "s"
   ],
   "cell_type": "code",
   "metadata": {},
   "execution_count": 2,
   "outputs": [
    {
     "output_type": "execute_result",
     "data": {
      "text/plain": [
       "0    1.0\n",
       "1    3.0\n",
       "2    5.0\n",
       "3    NaN\n",
       "4    6.0\n",
       "5    8.0\n",
       "dtype: float64"
      ]
     },
     "metadata": {},
     "execution_count": 2
    }
   ]
  },
  {
   "source": [
    "Creating a DataFrame by passing a NumPy array, with a datetime index and labeled columns"
   ],
   "cell_type": "markdown",
   "metadata": {}
  },
  {
   "cell_type": "code",
   "execution_count": 3,
   "metadata": {},
   "outputs": [
    {
     "output_type": "execute_result",
     "data": {
      "text/plain": [
       "DatetimeIndex(['2013-01-01', '2013-01-02', '2013-01-03', '2013-01-04',\n",
       "               '2013-01-05', '2013-01-06'],\n",
       "              dtype='datetime64[ns]', freq='D')"
      ]
     },
     "metadata": {},
     "execution_count": 3
    }
   ],
   "source": [
    "dates = pd.date_range('20130101', periods=6)\n",
    "dates\n"
   ]
  },
  {
   "cell_type": "code",
   "execution_count": 4,
   "metadata": {},
   "outputs": [
    {
     "output_type": "execute_result",
     "data": {
      "text/plain": [
       "                   A         B         C         D\n",
       "2013-01-01  0.151171  1.404493 -1.097122  0.798668\n",
       "2013-01-02  1.141819 -1.218573 -1.888103  0.942327\n",
       "2013-01-03 -0.672784 -0.861578  2.055078 -1.618543\n",
       "2013-01-04  0.162527 -0.470537 -1.055253 -0.658276\n",
       "2013-01-05 -0.053325  0.709354  0.088825  0.033290\n",
       "2013-01-06  1.529526 -0.691311  0.730210 -2.070958"
      ],
      "text/html": "<div>\n<style scoped>\n    .dataframe tbody tr th:only-of-type {\n        vertical-align: middle;\n    }\n\n    .dataframe tbody tr th {\n        vertical-align: top;\n    }\n\n    .dataframe thead th {\n        text-align: right;\n    }\n</style>\n<table border=\"1\" class=\"dataframe\">\n  <thead>\n    <tr style=\"text-align: right;\">\n      <th></th>\n      <th>A</th>\n      <th>B</th>\n      <th>C</th>\n      <th>D</th>\n    </tr>\n  </thead>\n  <tbody>\n    <tr>\n      <th>2013-01-01</th>\n      <td>0.151171</td>\n      <td>1.404493</td>\n      <td>-1.097122</td>\n      <td>0.798668</td>\n    </tr>\n    <tr>\n      <th>2013-01-02</th>\n      <td>1.141819</td>\n      <td>-1.218573</td>\n      <td>-1.888103</td>\n      <td>0.942327</td>\n    </tr>\n    <tr>\n      <th>2013-01-03</th>\n      <td>-0.672784</td>\n      <td>-0.861578</td>\n      <td>2.055078</td>\n      <td>-1.618543</td>\n    </tr>\n    <tr>\n      <th>2013-01-04</th>\n      <td>0.162527</td>\n      <td>-0.470537</td>\n      <td>-1.055253</td>\n      <td>-0.658276</td>\n    </tr>\n    <tr>\n      <th>2013-01-05</th>\n      <td>-0.053325</td>\n      <td>0.709354</td>\n      <td>0.088825</td>\n      <td>0.033290</td>\n    </tr>\n    <tr>\n      <th>2013-01-06</th>\n      <td>1.529526</td>\n      <td>-0.691311</td>\n      <td>0.730210</td>\n      <td>-2.070958</td>\n    </tr>\n  </tbody>\n</table>\n</div>"
     },
     "metadata": {},
     "execution_count": 4
    }
   ],
   "source": [
    "df = pd.DataFrame(np.random.randn(6, 4), index=dates, columns=list('ABCD'))\n",
    "df"
   ]
  },
  {
   "cell_type": "code",
   "execution_count": 5,
   "metadata": {},
   "outputs": [
    {
     "output_type": "error",
     "ename": "SyntaxError",
     "evalue": "invalid syntax (<ipython-input-5-61307c43c753>, line 1)",
     "traceback": [
      "\u001b[1;36m  File \u001b[1;32m\"<ipython-input-5-61307c43c753>\"\u001b[1;36m, line \u001b[1;32m1\u001b[0m\n\u001b[1;33m    Creating a DataFrame by passing a dict of objects that can be converted to series-like\u001b[0m\n\u001b[1;37m             ^\u001b[0m\n\u001b[1;31mSyntaxError\u001b[0m\u001b[1;31m:\u001b[0m invalid syntax\n"
     ]
    }
   ],
   "source": [
    "Creating a DataFrame by passing a dict of objects that can be converted to series-like"
   ]
  },
  {
   "cell_type": "code",
   "execution_count": 5,
   "metadata": {},
   "outputs": [
    {
     "output_type": "execute_result",
     "data": {
      "text/plain": [
       "     A          B    C  D      E    F\n",
       "0  1.0 2013-01-02  1.0  3   test  foo\n",
       "1  1.0 2013-01-02  1.0  3  train  foo\n",
       "2  1.0 2013-01-02  1.0  3   test  foo\n",
       "3  1.0 2013-01-02  1.0  3  train  foo"
      ],
      "text/html": "<div>\n<style scoped>\n    .dataframe tbody tr th:only-of-type {\n        vertical-align: middle;\n    }\n\n    .dataframe tbody tr th {\n        vertical-align: top;\n    }\n\n    .dataframe thead th {\n        text-align: right;\n    }\n</style>\n<table border=\"1\" class=\"dataframe\">\n  <thead>\n    <tr style=\"text-align: right;\">\n      <th></th>\n      <th>A</th>\n      <th>B</th>\n      <th>C</th>\n      <th>D</th>\n      <th>E</th>\n      <th>F</th>\n    </tr>\n  </thead>\n  <tbody>\n    <tr>\n      <th>0</th>\n      <td>1.0</td>\n      <td>2013-01-02</td>\n      <td>1.0</td>\n      <td>3</td>\n      <td>test</td>\n      <td>foo</td>\n    </tr>\n    <tr>\n      <th>1</th>\n      <td>1.0</td>\n      <td>2013-01-02</td>\n      <td>1.0</td>\n      <td>3</td>\n      <td>train</td>\n      <td>foo</td>\n    </tr>\n    <tr>\n      <th>2</th>\n      <td>1.0</td>\n      <td>2013-01-02</td>\n      <td>1.0</td>\n      <td>3</td>\n      <td>test</td>\n      <td>foo</td>\n    </tr>\n    <tr>\n      <th>3</th>\n      <td>1.0</td>\n      <td>2013-01-02</td>\n      <td>1.0</td>\n      <td>3</td>\n      <td>train</td>\n      <td>foo</td>\n    </tr>\n  </tbody>\n</table>\n</div>"
     },
     "metadata": {},
     "execution_count": 5
    }
   ],
   "source": [
    "df2 = pd.DataFrame({\n",
    "    'A': 1.,\n",
    "    'B': pd.Timestamp('20130102'),\n",
    "    'C': pd.Series(1, index=list(range(4)), dtype='float32'),\n",
    "    'D': np.array([3] * 4, dtype='int32'),\n",
    "    'E': pd.Categorical([\"test\", \"train\", \"test\", \"train\"]),\n",
    "    'F': 'foo'\n",
    "    })\n",
    "\n",
    "df2"
   ]
  },
  {
   "source": [
    "The columns of the resulting DataFrame have different dtypes"
   ],
   "cell_type": "markdown",
   "metadata": {}
  },
  {
   "cell_type": "code",
   "execution_count": 6,
   "metadata": {},
   "outputs": [
    {
     "output_type": "execute_result",
     "data": {
      "text/plain": [
       "A           float64\n",
       "B    datetime64[ns]\n",
       "C           float32\n",
       "D             int32\n",
       "E          category\n",
       "F            object\n",
       "dtype: object"
      ]
     },
     "metadata": {},
     "execution_count": 6
    }
   ],
   "source": [
    "df2.dtypes"
   ]
  },
  {
   "cell_type": "code",
   "execution_count": 7,
   "metadata": {},
   "outputs": [
    {
     "output_type": "execute_result",
     "data": {
      "text/plain": [
       "0    1.0\n",
       "1    1.0\n",
       "2    1.0\n",
       "3    1.0\n",
       "Name: A, dtype: float64"
      ]
     },
     "metadata": {},
     "execution_count": 7
    }
   ],
   "source": [
    "df2.A"
   ]
  },
  {
   "source": [
    "# Viewing data\n",
    "\n",
    "See the [Basics section](https://pandas.pydata.org/pandas-docs/stable/user_guide/basics.html#basics).\n",
    "\n",
    "Here is how to view the top and bottom rows of the frame"
   ],
   "cell_type": "markdown",
   "metadata": {}
  },
  {
   "cell_type": "code",
   "execution_count": 8,
   "metadata": {},
   "outputs": [
    {
     "output_type": "execute_result",
     "data": {
      "text/plain": [
       "                   A         B         C         D\n",
       "2013-01-01  1.459892 -0.228673  1.293468  1.315952\n",
       "2013-01-02 -0.206064  1.514555  0.620074 -1.302716\n",
       "2013-01-03  0.127552 -1.161776 -1.314447  1.004498\n",
       "2013-01-04  0.691331  1.130276  1.840713  0.617427\n",
       "2013-01-05  1.209488  0.066086  0.945589 -0.209997"
      ],
      "text/html": "<div>\n<style scoped>\n    .dataframe tbody tr th:only-of-type {\n        vertical-align: middle;\n    }\n\n    .dataframe tbody tr th {\n        vertical-align: top;\n    }\n\n    .dataframe thead th {\n        text-align: right;\n    }\n</style>\n<table border=\"1\" class=\"dataframe\">\n  <thead>\n    <tr style=\"text-align: right;\">\n      <th></th>\n      <th>A</th>\n      <th>B</th>\n      <th>C</th>\n      <th>D</th>\n    </tr>\n  </thead>\n  <tbody>\n    <tr>\n      <th>2013-01-01</th>\n      <td>1.459892</td>\n      <td>-0.228673</td>\n      <td>1.293468</td>\n      <td>1.315952</td>\n    </tr>\n    <tr>\n      <th>2013-01-02</th>\n      <td>-0.206064</td>\n      <td>1.514555</td>\n      <td>0.620074</td>\n      <td>-1.302716</td>\n    </tr>\n    <tr>\n      <th>2013-01-03</th>\n      <td>0.127552</td>\n      <td>-1.161776</td>\n      <td>-1.314447</td>\n      <td>1.004498</td>\n    </tr>\n    <tr>\n      <th>2013-01-04</th>\n      <td>0.691331</td>\n      <td>1.130276</td>\n      <td>1.840713</td>\n      <td>0.617427</td>\n    </tr>\n    <tr>\n      <th>2013-01-05</th>\n      <td>1.209488</td>\n      <td>0.066086</td>\n      <td>0.945589</td>\n      <td>-0.209997</td>\n    </tr>\n  </tbody>\n</table>\n</div>"
     },
     "metadata": {},
     "execution_count": 8
    }
   ],
   "source": [
    "df.head()"
   ]
  },
  {
   "cell_type": "code",
   "execution_count": 9,
   "metadata": {},
   "outputs": [
    {
     "output_type": "execute_result",
     "data": {
      "text/plain": [
       "                   A         B         C         D\n",
       "2013-01-04  0.691331  1.130276  1.840713  0.617427\n",
       "2013-01-05  1.209488  0.066086  0.945589 -0.209997\n",
       "2013-01-06  1.775099 -1.447794 -0.567952  1.711774"
      ],
      "text/html": "<div>\n<style scoped>\n    .dataframe tbody tr th:only-of-type {\n        vertical-align: middle;\n    }\n\n    .dataframe tbody tr th {\n        vertical-align: top;\n    }\n\n    .dataframe thead th {\n        text-align: right;\n    }\n</style>\n<table border=\"1\" class=\"dataframe\">\n  <thead>\n    <tr style=\"text-align: right;\">\n      <th></th>\n      <th>A</th>\n      <th>B</th>\n      <th>C</th>\n      <th>D</th>\n    </tr>\n  </thead>\n  <tbody>\n    <tr>\n      <th>2013-01-04</th>\n      <td>0.691331</td>\n      <td>1.130276</td>\n      <td>1.840713</td>\n      <td>0.617427</td>\n    </tr>\n    <tr>\n      <th>2013-01-05</th>\n      <td>1.209488</td>\n      <td>0.066086</td>\n      <td>0.945589</td>\n      <td>-0.209997</td>\n    </tr>\n    <tr>\n      <th>2013-01-06</th>\n      <td>1.775099</td>\n      <td>-1.447794</td>\n      <td>-0.567952</td>\n      <td>1.711774</td>\n    </tr>\n  </tbody>\n</table>\n</div>"
     },
     "metadata": {},
     "execution_count": 9
    }
   ],
   "source": [
    "df.tail(3)"
   ]
  },
  {
   "source": [
    "Display the index, columns"
   ],
   "cell_type": "markdown",
   "metadata": {}
  },
  {
   "source": [
    "df.index"
   ],
   "cell_type": "code",
   "metadata": {},
   "execution_count": null,
   "outputs": []
  },
  {
   "cell_type": "code",
   "execution_count": 11,
   "metadata": {},
   "outputs": [
    {
     "output_type": "execute_result",
     "data": {
      "text/plain": [
       "Index(['A', 'B', 'C', 'D'], dtype='object')"
      ]
     },
     "metadata": {},
     "execution_count": 11
    }
   ],
   "source": [
    "df.columns"
   ]
  },
  {
   "source": [
    "DataFrame.to_numpy() gives a NumPy representation of the underlying data. Note that this can be an expensive operation when your DataFrame has columns with different data types, which comes down to a fundamental difference between pandas and NumPy: NumPy arrays have one dtype for the entire array, while pandas DataFrames have one dtype per column. When you call DataFrame.to_numpy(), pandas will find the NumPy dtype that can hold all of the dtypes in the DataFrame. This may end up being object, which requires casting every value to a Python object.\n",
    "\n",
    "For df, our DataFrame of all floating-point values, DataFrame.to_numpy() is fast and doesn’t require copying data."
   ],
   "cell_type": "markdown",
   "metadata": {}
  },
  {
   "cell_type": "code",
   "execution_count": 12,
   "metadata": {},
   "outputs": [
    {
     "output_type": "execute_result",
     "data": {
      "text/plain": [
       "array([[ 1.45989175, -0.22867263,  1.29346812,  1.31595248],\n",
       "       [-0.20606428,  1.51455543,  0.62007381, -1.3027163 ],\n",
       "       [ 0.12755156, -1.16177627, -1.31444744,  1.00449756],\n",
       "       [ 0.69133117,  1.13027574,  1.84071278,  0.61742694],\n",
       "       [ 1.20948802,  0.06608587,  0.94558913, -0.20999739],\n",
       "       [ 1.77509937, -1.44779439, -0.56795177,  1.71177375]])"
      ]
     },
     "metadata": {},
     "execution_count": 12
    }
   ],
   "source": [
    "df.to_numpy()"
   ]
  },
  {
   "source": [
    "For df2, the DataFrame with multiple dtypes, DataFrame.to_numpy() is relatively expensive."
   ],
   "cell_type": "markdown",
   "metadata": {}
  },
  {
   "cell_type": "code",
   "execution_count": 13,
   "metadata": {},
   "outputs": [
    {
     "output_type": "execute_result",
     "data": {
      "text/plain": [
       "array([[1.0, Timestamp('2013-01-02 00:00:00'), 1.0, 3, 'test', 'foo'],\n",
       "       [1.0, Timestamp('2013-01-02 00:00:00'), 1.0, 3, 'train', 'foo'],\n",
       "       [1.0, Timestamp('2013-01-02 00:00:00'), 1.0, 3, 'test', 'foo'],\n",
       "       [1.0, Timestamp('2013-01-02 00:00:00'), 1.0, 3, 'train', 'foo']],\n",
       "      dtype=object)"
      ]
     },
     "metadata": {},
     "execution_count": 13
    }
   ],
   "source": [
    "df2.to_numpy()"
   ]
  },
  {
   "source": [
    "describe() shows a quick statistic summary of your data:"
   ],
   "cell_type": "markdown",
   "metadata": {}
  },
  {
   "cell_type": "code",
   "execution_count": 14,
   "metadata": {},
   "outputs": [
    {
     "output_type": "execute_result",
     "data": {
      "text/plain": [
       "              A         B         C         D\n",
       "count  6.000000  6.000000  6.000000  6.000000\n",
       "mean   0.842883 -0.021221  0.469574  0.522823\n",
       "std    0.777056  1.189217  1.188887  1.109346\n",
       "min   -0.206064 -1.447794 -1.314447 -1.302716\n",
       "25%    0.268496 -0.928500 -0.270945 -0.003141\n",
       "50%    0.950410 -0.081293  0.782831  0.810962\n",
       "75%    1.397291  0.864228  1.206498  1.238089\n",
       "max    1.775099  1.514555  1.840713  1.711774"
      ],
      "text/html": "<div>\n<style scoped>\n    .dataframe tbody tr th:only-of-type {\n        vertical-align: middle;\n    }\n\n    .dataframe tbody tr th {\n        vertical-align: top;\n    }\n\n    .dataframe thead th {\n        text-align: right;\n    }\n</style>\n<table border=\"1\" class=\"dataframe\">\n  <thead>\n    <tr style=\"text-align: right;\">\n      <th></th>\n      <th>A</th>\n      <th>B</th>\n      <th>C</th>\n      <th>D</th>\n    </tr>\n  </thead>\n  <tbody>\n    <tr>\n      <th>count</th>\n      <td>6.000000</td>\n      <td>6.000000</td>\n      <td>6.000000</td>\n      <td>6.000000</td>\n    </tr>\n    <tr>\n      <th>mean</th>\n      <td>0.842883</td>\n      <td>-0.021221</td>\n      <td>0.469574</td>\n      <td>0.522823</td>\n    </tr>\n    <tr>\n      <th>std</th>\n      <td>0.777056</td>\n      <td>1.189217</td>\n      <td>1.188887</td>\n      <td>1.109346</td>\n    </tr>\n    <tr>\n      <th>min</th>\n      <td>-0.206064</td>\n      <td>-1.447794</td>\n      <td>-1.314447</td>\n      <td>-1.302716</td>\n    </tr>\n    <tr>\n      <th>25%</th>\n      <td>0.268496</td>\n      <td>-0.928500</td>\n      <td>-0.270945</td>\n      <td>-0.003141</td>\n    </tr>\n    <tr>\n      <th>50%</th>\n      <td>0.950410</td>\n      <td>-0.081293</td>\n      <td>0.782831</td>\n      <td>0.810962</td>\n    </tr>\n    <tr>\n      <th>75%</th>\n      <td>1.397291</td>\n      <td>0.864228</td>\n      <td>1.206498</td>\n      <td>1.238089</td>\n    </tr>\n    <tr>\n      <th>max</th>\n      <td>1.775099</td>\n      <td>1.514555</td>\n      <td>1.840713</td>\n      <td>1.711774</td>\n    </tr>\n  </tbody>\n</table>\n</div>"
     },
     "metadata": {},
     "execution_count": 14
    }
   ],
   "source": [
    "df.describe()"
   ]
  },
  {
   "source": [
    "Transposing data"
   ],
   "cell_type": "markdown",
   "metadata": {}
  },
  {
   "cell_type": "code",
   "execution_count": 15,
   "metadata": {},
   "outputs": [
    {
     "output_type": "execute_result",
     "data": {
      "text/plain": [
       "   2013-01-01  2013-01-02  2013-01-03  2013-01-04  2013-01-05  2013-01-06\n",
       "A    1.459892   -0.206064    0.127552    0.691331    1.209488    1.775099\n",
       "B   -0.228673    1.514555   -1.161776    1.130276    0.066086   -1.447794\n",
       "C    1.293468    0.620074   -1.314447    1.840713    0.945589   -0.567952\n",
       "D    1.315952   -1.302716    1.004498    0.617427   -0.209997    1.711774"
      ],
      "text/html": "<div>\n<style scoped>\n    .dataframe tbody tr th:only-of-type {\n        vertical-align: middle;\n    }\n\n    .dataframe tbody tr th {\n        vertical-align: top;\n    }\n\n    .dataframe thead th {\n        text-align: right;\n    }\n</style>\n<table border=\"1\" class=\"dataframe\">\n  <thead>\n    <tr style=\"text-align: right;\">\n      <th></th>\n      <th>2013-01-01</th>\n      <th>2013-01-02</th>\n      <th>2013-01-03</th>\n      <th>2013-01-04</th>\n      <th>2013-01-05</th>\n      <th>2013-01-06</th>\n    </tr>\n  </thead>\n  <tbody>\n    <tr>\n      <th>A</th>\n      <td>1.459892</td>\n      <td>-0.206064</td>\n      <td>0.127552</td>\n      <td>0.691331</td>\n      <td>1.209488</td>\n      <td>1.775099</td>\n    </tr>\n    <tr>\n      <th>B</th>\n      <td>-0.228673</td>\n      <td>1.514555</td>\n      <td>-1.161776</td>\n      <td>1.130276</td>\n      <td>0.066086</td>\n      <td>-1.447794</td>\n    </tr>\n    <tr>\n      <th>C</th>\n      <td>1.293468</td>\n      <td>0.620074</td>\n      <td>-1.314447</td>\n      <td>1.840713</td>\n      <td>0.945589</td>\n      <td>-0.567952</td>\n    </tr>\n    <tr>\n      <th>D</th>\n      <td>1.315952</td>\n      <td>-1.302716</td>\n      <td>1.004498</td>\n      <td>0.617427</td>\n      <td>-0.209997</td>\n      <td>1.711774</td>\n    </tr>\n  </tbody>\n</table>\n</div>"
     },
     "metadata": {},
     "execution_count": 15
    }
   ],
   "source": [
    "df.T"
   ]
  },
  {
   "source": [
    "Sorting by an axis:"
   ],
   "cell_type": "markdown",
   "metadata": {}
  },
  {
   "cell_type": "code",
   "execution_count": 16,
   "metadata": {},
   "outputs": [
    {
     "output_type": "execute_result",
     "data": {
      "text/plain": [
       "                   D         C         B         A\n",
       "2013-01-01  1.315952  1.293468 -0.228673  1.459892\n",
       "2013-01-02 -1.302716  0.620074  1.514555 -0.206064\n",
       "2013-01-03  1.004498 -1.314447 -1.161776  0.127552\n",
       "2013-01-04  0.617427  1.840713  1.130276  0.691331\n",
       "2013-01-05 -0.209997  0.945589  0.066086  1.209488\n",
       "2013-01-06  1.711774 -0.567952 -1.447794  1.775099"
      ],
      "text/html": "<div>\n<style scoped>\n    .dataframe tbody tr th:only-of-type {\n        vertical-align: middle;\n    }\n\n    .dataframe tbody tr th {\n        vertical-align: top;\n    }\n\n    .dataframe thead th {\n        text-align: right;\n    }\n</style>\n<table border=\"1\" class=\"dataframe\">\n  <thead>\n    <tr style=\"text-align: right;\">\n      <th></th>\n      <th>D</th>\n      <th>C</th>\n      <th>B</th>\n      <th>A</th>\n    </tr>\n  </thead>\n  <tbody>\n    <tr>\n      <th>2013-01-01</th>\n      <td>1.315952</td>\n      <td>1.293468</td>\n      <td>-0.228673</td>\n      <td>1.459892</td>\n    </tr>\n    <tr>\n      <th>2013-01-02</th>\n      <td>-1.302716</td>\n      <td>0.620074</td>\n      <td>1.514555</td>\n      <td>-0.206064</td>\n    </tr>\n    <tr>\n      <th>2013-01-03</th>\n      <td>1.004498</td>\n      <td>-1.314447</td>\n      <td>-1.161776</td>\n      <td>0.127552</td>\n    </tr>\n    <tr>\n      <th>2013-01-04</th>\n      <td>0.617427</td>\n      <td>1.840713</td>\n      <td>1.130276</td>\n      <td>0.691331</td>\n    </tr>\n    <tr>\n      <th>2013-01-05</th>\n      <td>-0.209997</td>\n      <td>0.945589</td>\n      <td>0.066086</td>\n      <td>1.209488</td>\n    </tr>\n    <tr>\n      <th>2013-01-06</th>\n      <td>1.711774</td>\n      <td>-0.567952</td>\n      <td>-1.447794</td>\n      <td>1.775099</td>\n    </tr>\n  </tbody>\n</table>\n</div>"
     },
     "metadata": {},
     "execution_count": 16
    }
   ],
   "source": [
    "df.sort_index(axis=1,ascending=False)"
   ]
  },
  {
   "source": [
    "Sorting by values:"
   ],
   "cell_type": "markdown",
   "metadata": {}
  },
  {
   "cell_type": "code",
   "execution_count": 17,
   "metadata": {},
   "outputs": [
    {
     "output_type": "execute_result",
     "data": {
      "text/plain": [
       "                   A         B         C         D\n",
       "2013-01-06  1.775099 -1.447794 -0.567952  1.711774\n",
       "2013-01-03  0.127552 -1.161776 -1.314447  1.004498\n",
       "2013-01-01  1.459892 -0.228673  1.293468  1.315952\n",
       "2013-01-05  1.209488  0.066086  0.945589 -0.209997\n",
       "2013-01-04  0.691331  1.130276  1.840713  0.617427\n",
       "2013-01-02 -0.206064  1.514555  0.620074 -1.302716"
      ],
      "text/html": "<div>\n<style scoped>\n    .dataframe tbody tr th:only-of-type {\n        vertical-align: middle;\n    }\n\n    .dataframe tbody tr th {\n        vertical-align: top;\n    }\n\n    .dataframe thead th {\n        text-align: right;\n    }\n</style>\n<table border=\"1\" class=\"dataframe\">\n  <thead>\n    <tr style=\"text-align: right;\">\n      <th></th>\n      <th>A</th>\n      <th>B</th>\n      <th>C</th>\n      <th>D</th>\n    </tr>\n  </thead>\n  <tbody>\n    <tr>\n      <th>2013-01-06</th>\n      <td>1.775099</td>\n      <td>-1.447794</td>\n      <td>-0.567952</td>\n      <td>1.711774</td>\n    </tr>\n    <tr>\n      <th>2013-01-03</th>\n      <td>0.127552</td>\n      <td>-1.161776</td>\n      <td>-1.314447</td>\n      <td>1.004498</td>\n    </tr>\n    <tr>\n      <th>2013-01-01</th>\n      <td>1.459892</td>\n      <td>-0.228673</td>\n      <td>1.293468</td>\n      <td>1.315952</td>\n    </tr>\n    <tr>\n      <th>2013-01-05</th>\n      <td>1.209488</td>\n      <td>0.066086</td>\n      <td>0.945589</td>\n      <td>-0.209997</td>\n    </tr>\n    <tr>\n      <th>2013-01-04</th>\n      <td>0.691331</td>\n      <td>1.130276</td>\n      <td>1.840713</td>\n      <td>0.617427</td>\n    </tr>\n    <tr>\n      <th>2013-01-02</th>\n      <td>-0.206064</td>\n      <td>1.514555</td>\n      <td>0.620074</td>\n      <td>-1.302716</td>\n    </tr>\n  </tbody>\n</table>\n</div>"
     },
     "metadata": {},
     "execution_count": 17
    }
   ],
   "source": [
    "df.sort_values(by='B')"
   ]
  },
  {
   "source": [
    "# Getting\n",
    "Selecting a single column, which yields a Series, equivalent to df.A"
   ],
   "cell_type": "markdown",
   "metadata": {}
  },
  {
   "cell_type": "code",
   "execution_count": 18,
   "metadata": {},
   "outputs": [
    {
     "output_type": "execute_result",
     "data": {
      "text/plain": [
       "2013-01-01    1.459892\n",
       "2013-01-02   -0.206064\n",
       "2013-01-03    0.127552\n",
       "2013-01-04    0.691331\n",
       "2013-01-05    1.209488\n",
       "2013-01-06    1.775099\n",
       "Freq: D, Name: A, dtype: float64"
      ]
     },
     "metadata": {},
     "execution_count": 18
    }
   ],
   "source": [
    "df['A']"
   ]
  },
  {
   "source": [
    "Selecting via [], which slices the rows"
   ],
   "cell_type": "markdown",
   "metadata": {}
  },
  {
   "cell_type": "code",
   "execution_count": 19,
   "metadata": {},
   "outputs": [
    {
     "output_type": "execute_result",
     "data": {
      "text/plain": [
       "                   A         B         C         D\n",
       "2013-01-01  1.459892 -0.228673  1.293468  1.315952\n",
       "2013-01-02 -0.206064  1.514555  0.620074 -1.302716\n",
       "2013-01-03  0.127552 -1.161776 -1.314447  1.004498"
      ],
      "text/html": "<div>\n<style scoped>\n    .dataframe tbody tr th:only-of-type {\n        vertical-align: middle;\n    }\n\n    .dataframe tbody tr th {\n        vertical-align: top;\n    }\n\n    .dataframe thead th {\n        text-align: right;\n    }\n</style>\n<table border=\"1\" class=\"dataframe\">\n  <thead>\n    <tr style=\"text-align: right;\">\n      <th></th>\n      <th>A</th>\n      <th>B</th>\n      <th>C</th>\n      <th>D</th>\n    </tr>\n  </thead>\n  <tbody>\n    <tr>\n      <th>2013-01-01</th>\n      <td>1.459892</td>\n      <td>-0.228673</td>\n      <td>1.293468</td>\n      <td>1.315952</td>\n    </tr>\n    <tr>\n      <th>2013-01-02</th>\n      <td>-0.206064</td>\n      <td>1.514555</td>\n      <td>0.620074</td>\n      <td>-1.302716</td>\n    </tr>\n    <tr>\n      <th>2013-01-03</th>\n      <td>0.127552</td>\n      <td>-1.161776</td>\n      <td>-1.314447</td>\n      <td>1.004498</td>\n    </tr>\n  </tbody>\n</table>\n</div>"
     },
     "metadata": {},
     "execution_count": 19
    }
   ],
   "source": [
    "df[0:3]"
   ]
  },
  {
   "cell_type": "code",
   "execution_count": 20,
   "metadata": {},
   "outputs": [
    {
     "output_type": "execute_result",
     "data": {
      "text/plain": [
       "                   A         B         C         D\n",
       "2013-01-02 -0.206064  1.514555  0.620074 -1.302716\n",
       "2013-01-03  0.127552 -1.161776 -1.314447  1.004498\n",
       "2013-01-04  0.691331  1.130276  1.840713  0.617427"
      ],
      "text/html": "<div>\n<style scoped>\n    .dataframe tbody tr th:only-of-type {\n        vertical-align: middle;\n    }\n\n    .dataframe tbody tr th {\n        vertical-align: top;\n    }\n\n    .dataframe thead th {\n        text-align: right;\n    }\n</style>\n<table border=\"1\" class=\"dataframe\">\n  <thead>\n    <tr style=\"text-align: right;\">\n      <th></th>\n      <th>A</th>\n      <th>B</th>\n      <th>C</th>\n      <th>D</th>\n    </tr>\n  </thead>\n  <tbody>\n    <tr>\n      <th>2013-01-02</th>\n      <td>-0.206064</td>\n      <td>1.514555</td>\n      <td>0.620074</td>\n      <td>-1.302716</td>\n    </tr>\n    <tr>\n      <th>2013-01-03</th>\n      <td>0.127552</td>\n      <td>-1.161776</td>\n      <td>-1.314447</td>\n      <td>1.004498</td>\n    </tr>\n    <tr>\n      <th>2013-01-04</th>\n      <td>0.691331</td>\n      <td>1.130276</td>\n      <td>1.840713</td>\n      <td>0.617427</td>\n    </tr>\n  </tbody>\n</table>\n</div>"
     },
     "metadata": {},
     "execution_count": 20
    }
   ],
   "source": [
    "df['20130102':'20130104']"
   ]
  },
  {
   "source": [
    "# Selection by label\n",
    "See more in [Selection by Label](https://pandas.pydata.org/pandas-docs/stable/user_guide/indexing.html#indexing-label)\n",
    "\n",
    "For getting a cross section using a label:"
   ],
   "cell_type": "markdown",
   "metadata": {}
  },
  {
   "cell_type": "code",
   "execution_count": 21,
   "metadata": {},
   "outputs": [
    {
     "output_type": "execute_result",
     "data": {
      "text/plain": [
       "A    1.459892\n",
       "B   -0.228673\n",
       "C    1.293468\n",
       "D    1.315952\n",
       "Name: 2013-01-01 00:00:00, dtype: float64"
      ]
     },
     "metadata": {},
     "execution_count": 21
    }
   ],
   "source": [
    "df.loc[dates[0]]"
   ]
  },
  {
   "source": [
    "Selecting on a multi-axis by label:"
   ],
   "cell_type": "markdown",
   "metadata": {}
  },
  {
   "cell_type": "code",
   "execution_count": 22,
   "metadata": {},
   "outputs": [
    {
     "output_type": "execute_result",
     "data": {
      "text/plain": [
       "                   A         B\n",
       "2013-01-01  1.459892 -0.228673\n",
       "2013-01-02 -0.206064  1.514555\n",
       "2013-01-03  0.127552 -1.161776\n",
       "2013-01-04  0.691331  1.130276\n",
       "2013-01-05  1.209488  0.066086\n",
       "2013-01-06  1.775099 -1.447794"
      ],
      "text/html": "<div>\n<style scoped>\n    .dataframe tbody tr th:only-of-type {\n        vertical-align: middle;\n    }\n\n    .dataframe tbody tr th {\n        vertical-align: top;\n    }\n\n    .dataframe thead th {\n        text-align: right;\n    }\n</style>\n<table border=\"1\" class=\"dataframe\">\n  <thead>\n    <tr style=\"text-align: right;\">\n      <th></th>\n      <th>A</th>\n      <th>B</th>\n    </tr>\n  </thead>\n  <tbody>\n    <tr>\n      <th>2013-01-01</th>\n      <td>1.459892</td>\n      <td>-0.228673</td>\n    </tr>\n    <tr>\n      <th>2013-01-02</th>\n      <td>-0.206064</td>\n      <td>1.514555</td>\n    </tr>\n    <tr>\n      <th>2013-01-03</th>\n      <td>0.127552</td>\n      <td>-1.161776</td>\n    </tr>\n    <tr>\n      <th>2013-01-04</th>\n      <td>0.691331</td>\n      <td>1.130276</td>\n    </tr>\n    <tr>\n      <th>2013-01-05</th>\n      <td>1.209488</td>\n      <td>0.066086</td>\n    </tr>\n    <tr>\n      <th>2013-01-06</th>\n      <td>1.775099</td>\n      <td>-1.447794</td>\n    </tr>\n  </tbody>\n</table>\n</div>"
     },
     "metadata": {},
     "execution_count": 22
    }
   ],
   "source": [
    "df.loc[:, ['A', 'B']]"
   ]
  },
  {
   "source": [
    "Showing label slicing, both endpoints are included:"
   ],
   "cell_type": "markdown",
   "metadata": {}
  },
  {
   "cell_type": "code",
   "execution_count": 30,
   "metadata": {},
   "outputs": [
    {
     "output_type": "execute_result",
     "data": {
      "text/plain": [
       "                   A         C\n",
       "2013-01-02  2.110071 -2.153039\n",
       "2013-01-03  0.982209  1.216813\n",
       "2013-01-04 -1.085447  0.601366"
      ],
      "text/html": "<div>\n<style scoped>\n    .dataframe tbody tr th:only-of-type {\n        vertical-align: middle;\n    }\n\n    .dataframe tbody tr th {\n        vertical-align: top;\n    }\n\n    .dataframe thead th {\n        text-align: right;\n    }\n</style>\n<table border=\"1\" class=\"dataframe\">\n  <thead>\n    <tr style=\"text-align: right;\">\n      <th></th>\n      <th>A</th>\n      <th>C</th>\n    </tr>\n  </thead>\n  <tbody>\n    <tr>\n      <th>2013-01-02</th>\n      <td>2.110071</td>\n      <td>-2.153039</td>\n    </tr>\n    <tr>\n      <th>2013-01-03</th>\n      <td>0.982209</td>\n      <td>1.216813</td>\n    </tr>\n    <tr>\n      <th>2013-01-04</th>\n      <td>-1.085447</td>\n      <td>0.601366</td>\n    </tr>\n  </tbody>\n</table>\n</div>"
     },
     "metadata": {},
     "execution_count": 30
    }
   ],
   "source": [
    "df.loc['20130102':'20130104', ['A', 'C']]"
   ]
  },
  {
   "source": [
    "Reduction in the dimensions of the returned object:"
   ],
   "cell_type": "markdown",
   "metadata": {}
  },
  {
   "cell_type": "code",
   "execution_count": 32,
   "metadata": {},
   "outputs": [
    {
     "output_type": "execute_result",
     "data": {
      "text/plain": [
       "A    2.110071\n",
       "B    0.267120\n",
       "Name: 2013-01-02 00:00:00, dtype: float64"
      ]
     },
     "metadata": {},
     "execution_count": 32
    }
   ],
   "source": [
    "df.loc['20130102', ['A', 'B']]"
   ]
  },
  {
   "source": [
    "For getting a scalar value:"
   ],
   "cell_type": "markdown",
   "metadata": {}
  },
  {
   "cell_type": "code",
   "execution_count": 33,
   "metadata": {},
   "outputs": [
    {
     "output_type": "execute_result",
     "data": {
      "text/plain": [
       "-0.11276306200813517"
      ]
     },
     "metadata": {},
     "execution_count": 33
    }
   ],
   "source": [
    "df.loc[dates[0], 'A']"
   ]
  },
  {
   "source": [
    "For getting fast access to a scalar (equivalent to the prior method):"
   ],
   "cell_type": "markdown",
   "metadata": {}
  },
  {
   "cell_type": "code",
   "execution_count": 34,
   "metadata": {},
   "outputs": [
    {
     "output_type": "execute_result",
     "data": {
      "text/plain": [
       "-0.11276306200813517"
      ]
     },
     "metadata": {},
     "execution_count": 34
    }
   ],
   "source": [
    "df.at[dates[0], 'A']"
   ]
  },
  {
   "cell_type": "code",
   "execution_count": null,
   "metadata": {},
   "outputs": [],
   "source": []
  }
 ]
}