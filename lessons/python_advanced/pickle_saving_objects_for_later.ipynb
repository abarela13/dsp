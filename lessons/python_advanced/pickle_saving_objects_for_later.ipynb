{
 "cells": [
  {
   "cell_type": "code",
   "execution_count": 1,
   "metadata": {},
   "outputs": [
    {
     "output_type": "stream",
     "name": "stdout",
     "text": [
      "Python Version: 3.8.5 (tags/v3.8.5:580fbb0, Jul 20 2020, 15:57:54) [MSC v.1924 64 bit (AMD64)] \n\n"
     ]
    }
   ],
   "source": [
    "import sys\n",
    "print(\"Python Version:\", sys.version, '\\n')"
   ]
  },
  {
   "cell_type": "markdown",
   "metadata": {},
   "source": [
    "# Pickle: Saving Objects for Later"
   ]
  },
  {
   "cell_type": "markdown",
   "metadata": {},
   "source": [
    "Often in data science, we'll create some model or some version of our data and want to use it later. We have many options - we can save the coefficients, or save the data to csv, or...\n",
    "\n",
    "Actually, we don't have that many options. \n",
    "\n",
    "One way to overcome that is to save the python object to a file as a serialized object. That means we convert the entire object to a bunch of bytes, save those bytes into a file, and then have the ability to unpack those bytes back into their original format later. \n",
    "\n",
    "This is done by a module called `pickle`. Let's see it in action."
   ]
  },
  {
   "cell_type": "code",
   "execution_count": 2,
   "metadata": {},
   "outputs": [],
   "source": [
    "import pickle\n",
    "import random\n",
    "\n",
    "lots_of_noise = {\n",
    "    'CA': [random.randint(0,65) for _ in range(100)],\n",
    "    'IL': [random.randint(0,65) for _ in range(50)],\n",
    "    'NY': [random.randint(0,65) for _ in range(90)],\n",
    "    'WA': [random.randint(0,65) for _ in range(33)]\n",
    "}"
   ]
  },
  {
   "cell_type": "code",
   "execution_count": 3,
   "metadata": {},
   "outputs": [
    {
     "output_type": "stream",
     "name": "stdout",
     "text": [
      "{'CA': [62, 63, 55, 37, 8, 37, 7, 44, 62, 32, 37, 32, 51, 62, 21, 3, 15, 61, 49, 4, 1, 35, 18, 38, 33, 35, 42, 29, 5, 0, 63, 55, 35, 34, 34, 65, 51, 17, 1, 11, 42, 38, 36, 44, 29, 2, 62, 31, 39, 58, 43, 9, 33, 19, 11, 21, 49, 29, 6, 10, 6, 45, 42, 48, 3, 16, 0, 39, 60, 20, 6, 16, 29, 63, 53, 20, 32, 46, 9, 28, 4, 7, 9, 46, 60, 26, 50, 53, 10, 3, 10, 62, 24, 15, 51, 50, 33, 28, 6, 24], 'IL': [48, 9, 65, 16, 36, 58, 45, 20, 2, 46, 58, 45, 8, 29, 9, 4, 59, 5, 15, 6, 56, 4, 1, 24, 15, 18, 1, 10, 13, 65, 34, 21, 21, 39, 24, 65, 30, 13, 57, 22, 36, 56, 29, 49, 24, 30, 9, 6, 22, 3], 'NY': [64, 28, 26, 27, 22, 37, 31, 63, 36, 47, 59, 28, 48, 46, 32, 64, 18, 5, 13, 15, 8, 31, 54, 0, 30, 16, 30, 4, 60, 13, 19, 13, 34, 15, 63, 61, 24, 64, 11, 44, 44, 40, 14, 65, 14, 58, 5, 63, 35, 54, 36, 46, 19, 11, 55, 6, 58, 14, 44, 43, 50, 11, 0, 58, 49, 36, 21, 47, 49, 31, 40, 28, 44, 3, 32, 62, 42, 31, 36, 39, 22, 6, 29, 50, 4, 56, 24, 36, 35, 65], 'WA': [63, 19, 21, 50, 49, 28, 3, 46, 47, 40, 47, 1, 63, 29, 32, 33, 0, 55, 1, 55, 14, 63, 1, 51, 26, 64, 14, 59, 31, 10, 43, 27, 56]}\n"
     ]
    }
   ],
   "source": [
    "print(lots_of_noise)"
   ]
  },
  {
   "cell_type": "code",
   "execution_count": 4,
   "metadata": {},
   "outputs": [
    {
     "output_type": "stream",
     "name": "stdout",
     "text": [
      "Variable        Type      Data/Info\n-----------------------------------\nlots_of_noise   dict      n=4\nos              module    <module 'os' from 'C:\\\\Python38\\\\lib\\\\os.py'>\npickle          module    <module 'pickle' from 'C:<...>ython38\\\\lib\\\\pickle.py'>\nrandom          module    <module 'random' from 'C:<...>ython38\\\\lib\\\\random.py'>\nsys             module    <module 'sys' (built-in)>\n"
     ]
    }
   ],
   "source": [
    "whos"
   ]
  },
  {
   "cell_type": "markdown",
   "metadata": {},
   "source": [
    "We can see in this `whos` command that the object `lots_of_noise` exists and is a `dict` with 4 keys. Nice. Now let's look at our file system and verify that there isn't a file called `noise.pickle`."
   ]
  },
  {
   "cell_type": "code",
   "execution_count": 9,
   "metadata": {},
   "outputs": [
    {
     "output_type": "stream",
     "name": "stdout",
     "text": [
      " Volume in drive C has no label.\n Volume Serial Number is 5647-8F08\n\n Directory of c:\\GitHub\\dsp\\lessons\\python_advanced\n\n10/08/2020  06:54 PM    <DIR>          .\n10/08/2020  06:54 PM    <DIR>          ..\n10/27/2020  04:04 PM            14,109 advanced_python_datatypes.ipynb\n10/08/2020  06:54 PM             1,015 complexity.md\n10/27/2020  04:19 PM             9,790 deep_and_shallow_copy.ipynb\n10/08/2020  06:54 PM    <DIR>          deep_copy_demo\n10/08/2020  06:54 PM             4,040 my_dataframe.pickle\n10/27/2020  04:23 PM               598 noise.pickle\n10/27/2020  04:23 PM             9,652 pickle_saving_objects_for_later.ipynb\n10/08/2020  06:54 PM             1,231 readme.md\n               7 File(s)         40,435 bytes\n               3 Dir(s)  137,120,919,552 bytes free\n"
     ]
    }
   ],
   "source": [
    "ls"
   ]
  },
  {
   "cell_type": "markdown",
   "metadata": {},
   "source": [
    "Okay, now we're ready to create a file and write the bytes to it. To do this with `pickle`, we use python's read-write streamer `open` and create a writable-binary (`wb`) file. We'll then use `pickle.dump` to put an object into that file as a string of bytes."
   ]
  },
  {
   "cell_type": "code",
   "execution_count": 11,
   "metadata": {},
   "outputs": [],
   "source": [
    "with open('noise.pickle', 'wb') as to_write:\n",
    "    pickle.dump(lots_of_noise, to_write)"
   ]
  },
  {
   "cell_type": "code",
   "execution_count": 10,
   "metadata": {},
   "outputs": [
    {
     "output_type": "stream",
     "name": "stdout",
     "text": [
      " Volume in drive C has no label.\n Volume Serial Number is 5647-8F08\n\n Directory of c:\\GitHub\\dsp\\lessons\\python_advanced\n\n10/08/2020  06:54 PM    <DIR>          .\n10/08/2020  06:54 PM    <DIR>          ..\n10/27/2020  04:04 PM            14,109 advanced_python_datatypes.ipynb\n10/08/2020  06:54 PM             1,015 complexity.md\n10/27/2020  04:19 PM             9,790 deep_and_shallow_copy.ipynb\n10/08/2020  06:54 PM    <DIR>          deep_copy_demo\n10/08/2020  06:54 PM             4,040 my_dataframe.pickle\n10/27/2020  04:23 PM               598 noise.pickle\n10/27/2020  04:23 PM             9,652 pickle_saving_objects_for_later.ipynb\n10/08/2020  06:54 PM             1,231 readme.md\n               7 File(s)         40,435 bytes\n               3 Dir(s)  137,120,903,168 bytes free\n"
     ]
    }
   ],
   "source": [
    "ls"
   ]
  },
  {
   "cell_type": "markdown",
   "metadata": {},
   "source": [
    "Now let's delete `lots_of_noise` and prove to ourselves it doesn't exist in Python's memory anymore."
   ]
  },
  {
   "cell_type": "code",
   "execution_count": 12,
   "metadata": {},
   "outputs": [],
   "source": [
    "del lots_of_noise"
   ]
  },
  {
   "cell_type": "code",
   "execution_count": 13,
   "metadata": {},
   "outputs": [
    {
     "output_type": "stream",
     "name": "stdout",
     "text": [
      "Variable   Type              Data/Info\n--------------------------------------\nos         module            <module 'os' from 'C:\\\\Python38\\\\lib\\\\os.py'>\npickle     module            <module 'pickle' from 'C:<...>ython38\\\\lib\\\\pickle.py'>\nrandom     module            <module 'random' from 'C:<...>ython38\\\\lib\\\\random.py'>\nsys        module            <module 'sys' (built-in)>\nto_write   BufferedWriter    <_io.BufferedWriter name='noise.pickle'>\n"
     ]
    }
   ],
   "source": [
    "whos"
   ]
  },
  {
   "cell_type": "code",
   "execution_count": 14,
   "metadata": {},
   "outputs": [
    {
     "output_type": "error",
     "ename": "NameError",
     "evalue": "name 'lots_of_noise' is not defined",
     "traceback": [
      "\u001b[1;31m---------------------------------------------------------------------------\u001b[0m",
      "\u001b[1;31mNameError\u001b[0m                                 Traceback (most recent call last)",
      "\u001b[1;32m<ipython-input-14-69f22b4d5ca8>\u001b[0m in \u001b[0;36m<module>\u001b[1;34m\u001b[0m\n\u001b[1;32m----> 1\u001b[1;33m \u001b[0mprint\u001b[0m\u001b[1;33m(\u001b[0m\u001b[0mlots_of_noise\u001b[0m\u001b[1;33m)\u001b[0m\u001b[1;33m\u001b[0m\u001b[1;33m\u001b[0m\u001b[0m\n\u001b[0m",
      "\u001b[1;31mNameError\u001b[0m: name 'lots_of_noise' is not defined"
     ]
    }
   ],
   "source": [
    "print(lots_of_noise)"
   ]
  },
  {
   "cell_type": "markdown",
   "metadata": {},
   "source": [
    "Lovely. It's dead forever. Or is it?\n",
    "\n",
    "Let's open that `noise.pickle` file with read-binary (`rb`) mode. Then we'll ask pickle to retrieve the file with `pickle.load` and store it back in a variable."
   ]
  },
  {
   "cell_type": "code",
   "execution_count": 15,
   "metadata": {},
   "outputs": [],
   "source": [
    "with open('noise.pickle','rb') as read_file:\n",
    "    new_noise = pickle.load(read_file)"
   ]
  },
  {
   "cell_type": "code",
   "execution_count": 16,
   "metadata": {},
   "outputs": [
    {
     "output_type": "stream",
     "name": "stdout",
     "text": [
      "{'CA': [62, 63, 55, 37, 8, 37, 7, 44, 62, 32, 37, 32, 51, 62, 21, 3, 15, 61, 49, 4, 1, 35, 18, 38, 33, 35, 42, 29, 5, 0, 63, 55, 35, 34, 34, 65, 51, 17, 1, 11, 42, 38, 36, 44, 29, 2, 62, 31, 39, 58, 43, 9, 33, 19, 11, 21, 49, 29, 6, 10, 6, 45, 42, 48, 3, 16, 0, 39, 60, 20, 6, 16, 29, 63, 53, 20, 32, 46, 9, 28, 4, 7, 9, 46, 60, 26, 50, 53, 10, 3, 10, 62, 24, 15, 51, 50, 33, 28, 6, 24], 'IL': [48, 9, 65, 16, 36, 58, 45, 20, 2, 46, 58, 45, 8, 29, 9, 4, 59, 5, 15, 6, 56, 4, 1, 24, 15, 18, 1, 10, 13, 65, 34, 21, 21, 39, 24, 65, 30, 13, 57, 22, 36, 56, 29, 49, 24, 30, 9, 6, 22, 3], 'NY': [64, 28, 26, 27, 22, 37, 31, 63, 36, 47, 59, 28, 48, 46, 32, 64, 18, 5, 13, 15, 8, 31, 54, 0, 30, 16, 30, 4, 60, 13, 19, 13, 34, 15, 63, 61, 24, 64, 11, 44, 44, 40, 14, 65, 14, 58, 5, 63, 35, 54, 36, 46, 19, 11, 55, 6, 58, 14, 44, 43, 50, 11, 0, 58, 49, 36, 21, 47, 49, 31, 40, 28, 44, 3, 32, 62, 42, 31, 36, 39, 22, 6, 29, 50, 4, 56, 24, 36, 35, 65], 'WA': [63, 19, 21, 50, 49, 28, 3, 46, 47, 40, 47, 1, 63, 29, 32, 33, 0, 55, 1, 55, 14, 63, 1, 51, 26, 64, 14, 59, 31, 10, 43, 27, 56]}\n"
     ]
    }
   ],
   "source": [
    "print(new_noise)"
   ]
  },
  {
   "cell_type": "code",
   "execution_count": 17,
   "metadata": {},
   "outputs": [
    {
     "output_type": "stream",
     "name": "stdout",
     "text": [
      "Variable    Type              Data/Info\n---------------------------------------\nnew_noise   dict              n=4\nos          module            <module 'os' from 'C:\\\\Python38\\\\lib\\\\os.py'>\npickle      module            <module 'pickle' from 'C:<...>ython38\\\\lib\\\\pickle.py'>\nrandom      module            <module 'random' from 'C:<...>ython38\\\\lib\\\\random.py'>\nread_file   BufferedReader    <_io.BufferedReader name='noise.pickle'>\nsys         module            <module 'sys' (built-in)>\nto_write    BufferedWriter    <_io.BufferedWriter name='noise.pickle'>\n"
     ]
    }
   ],
   "source": [
    "whos"
   ]
  },
  {
   "cell_type": "markdown",
   "metadata": {},
   "source": [
    "Random noise lives! We retrieved the entire structure from file. Nice."
   ]
  },
  {
   "cell_type": "markdown",
   "metadata": {},
   "source": [
    "### Okay, but I don't use dictionaries... I use pandas."
   ]
  },
  {
   "cell_type": "code",
   "execution_count": 22,
   "metadata": {},
   "outputs": [
    {
     "output_type": "execute_result",
     "data": {
      "text/plain": [
       "        Yay  specific    column     names\n",
       "0 -1.728859  0.548516  3.889798 -5.084756\n",
       "1 -0.609703  1.747453 -7.780246 -1.100201\n",
       "2 -5.879972 -5.868316 -7.313152  6.391519\n",
       "3  6.517677  0.552292 -9.191619  9.005016\n",
       "4  7.826878 -9.521009  7.311795  7.469845"
      ],
      "text/html": "<div>\n<style scoped>\n    .dataframe tbody tr th:only-of-type {\n        vertical-align: middle;\n    }\n\n    .dataframe tbody tr th {\n        vertical-align: top;\n    }\n\n    .dataframe thead th {\n        text-align: right;\n    }\n</style>\n<table border=\"1\" class=\"dataframe\">\n  <thead>\n    <tr style=\"text-align: right;\">\n      <th></th>\n      <th>Yay</th>\n      <th>specific</th>\n      <th>column</th>\n      <th>names</th>\n    </tr>\n  </thead>\n  <tbody>\n    <tr>\n      <th>0</th>\n      <td>-1.728859</td>\n      <td>0.548516</td>\n      <td>3.889798</td>\n      <td>-5.084756</td>\n    </tr>\n    <tr>\n      <th>1</th>\n      <td>-0.609703</td>\n      <td>1.747453</td>\n      <td>-7.780246</td>\n      <td>-1.100201</td>\n    </tr>\n    <tr>\n      <th>2</th>\n      <td>-5.879972</td>\n      <td>-5.868316</td>\n      <td>-7.313152</td>\n      <td>6.391519</td>\n    </tr>\n    <tr>\n      <th>3</th>\n      <td>6.517677</td>\n      <td>0.552292</td>\n      <td>-9.191619</td>\n      <td>9.005016</td>\n    </tr>\n    <tr>\n      <th>4</th>\n      <td>7.826878</td>\n      <td>-9.521009</td>\n      <td>7.311795</td>\n      <td>7.469845</td>\n    </tr>\n  </tbody>\n</table>\n</div>"
     },
     "metadata": {},
     "execution_count": 22
    }
   ],
   "source": [
    "import pandas as pd\n",
    "import numpy as np\n",
    "\n",
    "df = pd.DataFrame(np.random.uniform(-10,10, size=(100,4)), columns=['Yay','specific','column','names'])\n",
    "df.head(5)"
   ]
  },
  {
   "cell_type": "code",
   "execution_count": 20,
   "metadata": {},
   "outputs": [],
   "source": [
    "with open('my_dataframe.pickle', 'wb') as to_write:\n",
    "    pickle.dump(df, to_write)"
   ]
  },
  {
   "cell_type": "code",
   "execution_count": 23,
   "metadata": {},
   "outputs": [
    {
     "output_type": "error",
     "ename": "NameError",
     "evalue": "name 'df' is not defined",
     "traceback": [
      "\u001b[1;31m---------------------------------------------------------------------------\u001b[0m",
      "\u001b[1;31mNameError\u001b[0m                                 Traceback (most recent call last)",
      "\u001b[1;32m<ipython-input-23-3975f6306adf>\u001b[0m in \u001b[0;36m<module>\u001b[1;34m\u001b[0m\n\u001b[0;32m      1\u001b[0m \u001b[1;32mdel\u001b[0m \u001b[0mdf\u001b[0m\u001b[1;33m\u001b[0m\u001b[1;33m\u001b[0m\u001b[0m\n\u001b[0;32m      2\u001b[0m \u001b[1;33m\u001b[0m\u001b[0m\n\u001b[1;32m----> 3\u001b[1;33m \u001b[0mdf\u001b[0m\u001b[1;33m.\u001b[0m\u001b[0mhead\u001b[0m\u001b[1;33m(\u001b[0m\u001b[1;36m5\u001b[0m\u001b[1;33m)\u001b[0m\u001b[1;33m\u001b[0m\u001b[1;33m\u001b[0m\u001b[0m\n\u001b[0m",
      "\u001b[1;31mNameError\u001b[0m: name 'df' is not defined"
     ]
    }
   ],
   "source": [
    "del df\n",
    "\n",
    "df.head(5)"
   ]
  },
  {
   "cell_type": "code",
   "execution_count": 24,
   "metadata": {},
   "outputs": [
    {
     "output_type": "execute_result",
     "data": {
      "text/plain": [
       "        Yay  specific    column     names\n",
       "0 -8.144675  2.461299 -2.932072 -2.224894\n",
       "1 -0.544201  6.692763 -6.618776 -1.019191\n",
       "2 -1.366642 -9.335831  9.042353  4.772594\n",
       "3 -9.003276  3.948674  7.279477 -9.145165\n",
       "4  8.932012 -8.291854 -2.990537  4.371693"
      ],
      "text/html": "<div>\n<style scoped>\n    .dataframe tbody tr th:only-of-type {\n        vertical-align: middle;\n    }\n\n    .dataframe tbody tr th {\n        vertical-align: top;\n    }\n\n    .dataframe thead th {\n        text-align: right;\n    }\n</style>\n<table border=\"1\" class=\"dataframe\">\n  <thead>\n    <tr style=\"text-align: right;\">\n      <th></th>\n      <th>Yay</th>\n      <th>specific</th>\n      <th>column</th>\n      <th>names</th>\n    </tr>\n  </thead>\n  <tbody>\n    <tr>\n      <th>0</th>\n      <td>-8.144675</td>\n      <td>2.461299</td>\n      <td>-2.932072</td>\n      <td>-2.224894</td>\n    </tr>\n    <tr>\n      <th>1</th>\n      <td>-0.544201</td>\n      <td>6.692763</td>\n      <td>-6.618776</td>\n      <td>-1.019191</td>\n    </tr>\n    <tr>\n      <th>2</th>\n      <td>-1.366642</td>\n      <td>-9.335831</td>\n      <td>9.042353</td>\n      <td>4.772594</td>\n    </tr>\n    <tr>\n      <th>3</th>\n      <td>-9.003276</td>\n      <td>3.948674</td>\n      <td>7.279477</td>\n      <td>-9.145165</td>\n    </tr>\n    <tr>\n      <th>4</th>\n      <td>8.932012</td>\n      <td>-8.291854</td>\n      <td>-2.990537</td>\n      <td>4.371693</td>\n    </tr>\n  </tbody>\n</table>\n</div>"
     },
     "metadata": {},
     "execution_count": 24
    }
   ],
   "source": [
    "with open('my_dataframe.pickle','rb') as read_file:\n",
    "    new_df = pickle.load(read_file)\n",
    "    \n",
    "new_df.head(5)"
   ]
  },
  {
   "cell_type": "markdown",
   "metadata": {},
   "source": [
    "Pickle is a great tool. One recommended way of using it is to make it an end point of every step in your process. Example:\n",
    "\n",
    "* I got my data! Nice. Pickle it and stop your \"getting the data\" notebook.\n",
    "* Load your data from pickle. Clean it. Save your clean data to a new pickle.\n",
    "* Load your cleaned_data pickle. Do analysis and visualize it.\n",
    "\n",
    "This can provide natural \"pick-up-where-I-left-off-but-before-I-broke-my-data\" points. It's a great way to control the flow of your data.\n",
    "\n",
    "#### Resources\n",
    "\n",
    "https://docs.python.org/3.7/library/pickle.html"
   ]
  },
  {
   "cell_type": "code",
   "execution_count": null,
   "metadata": {},
   "outputs": [],
   "source": []
  }
 ],
 "metadata": {
  "language_info": {
   "codemirror_mode": {
    "name": "ipython",
    "version": 3
   },
   "file_extension": ".py",
   "mimetype": "text/x-python",
   "name": "python",
   "nbconvert_exporter": "python",
   "pygments_lexer": "ipython3",
   "version": "3.8.5-final"
  },
  "kernelspec": {
   "name": "Python 3.8.5 64-bit",
   "display_name": "Python 3.8.5 64-bit",
   "metadata": {
    "interpreter": {
     "hash": "2db524e06e9f5f4ffedc911c917cb75e12dbc923643829bf417064a77eb14d37"
    }
   }
  }
 },
 "nbformat": 4,
 "nbformat_minor": 1
}